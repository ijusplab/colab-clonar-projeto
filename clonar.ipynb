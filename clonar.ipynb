{
  "nbformat": 4,
  "nbformat_minor": 0,
  "metadata": {
    "colab": {
      "name": "clonar.ipynb",
      "provenance": [],
      "collapsed_sections": [],
      "include_colab_link": true
    },
    "kernelspec": {
      "name": "python3",
      "display_name": "Python 3"
    }
  },
  "cells": [
    {
      "cell_type": "markdown",
      "metadata": {
        "id": "view-in-github",
        "colab_type": "text"
      },
      "source": [
        "<a href=\"https://colab.research.google.com/github/ijusplab/utilidades-colab/blob/master/clonar.ipynb\" target=\"_parent\"><img src=\"https://colab.research.google.com/assets/colab-badge.svg\" alt=\"Open In Colab\"/></a>"
      ]
    },
    {
      "cell_type": "markdown",
      "metadata": {
        "id": "o_cxtaQmdtn7",
        "colab_type": "text"
      },
      "source": [
        "# Utilidades: Clonar Repositório"
      ]
    },
    {
      "cell_type": "markdown",
      "metadata": {
        "id": "YXlwaTn4dqFi",
        "colab_type": "text"
      },
      "source": [
        "## Instruções:\n",
        "Para clonar um repositório, primeiro copie o url no GitHub.\n",
        "\n",
        "O formato deve ser `https://github.com/<nome_da_organizacao>/<nome_do_projeto>.git`.\n",
        "\n",
        "Cole o url abaixo, no campo `remote`.\n",
        "\n",
        "Em seguida, execute a célula.\n",
        "\n",
        "**Atenção: verifique se o campo `projects_path` corresponde ao caminho para a pasta de projetos no seu Google Drive.**\n"
      ]
    },
    {
      "cell_type": "code",
      "metadata": {
        "colab_type": "code",
        "id": "qjQ69_AQTxxY",
        "colab": {}
      },
      "source": [
        "#@title Dados de Configuração { vertical-output: true, display-mode: \"form\" }\n",
        "remote = \"\" #@param {type:\"string\"}\n",
        "git_config_path = \"/LIIA-3R/CONFIG/git_config.txt\" #@param {type:\"string\"}\n",
        "projects_path = \"/LIIA-3R/PROJETOS/\" #@param {type:\"string\"}\n",
        "\n",
        "import re\n",
        "from google.colab import drive\n",
        "\n",
        "print('integrando Google Drive ao ambiente...')\n",
        "drive.mount('/content/drive')\n",
        "\n",
        "repo = re.search(\"([^\\/]*)\\.git$\", remote)\n",
        "if repo == None:\n",
        "  raise Exception('Remoto inválido')\n",
        "print('repo: ' + repo.group(1))\n",
        "root = '/content/drive/My\\ Drive'\n",
        "projects_path = root + projects_path\n",
        "repo_path = projects_path + repo.group(1)\n",
        "config_path = root + git_config_path\n",
        "print();\n",
        "\n",
        "print('acessando pasta de projetos...')\n",
        "%cd {projects_path}\n",
        "%pwd\n",
        "%ls\n",
        "print();\n",
        "\n",
        "print('configurando o git...')\n",
        "config_info = !cat {config_path}\n",
        "github_url = 'https://' + config_info[2] + '@github.com/' + remote.replace('https://github.com/', '')\n",
        "del config_info\n",
        "print();\n",
        "\n",
        "print('clonando repositório...')\n",
        "!git clone {github_url}\n",
        "%cd {repo_path}\n",
        "!mv gitignore .gitignore\n",
        "%ls\n",
        "print();\n",
        "\n",
        "print('remote:')\n",
        "!git remote -v"
      ],
      "execution_count": 0,
      "outputs": []
    }
  ]
}