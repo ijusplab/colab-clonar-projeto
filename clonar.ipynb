{
  "nbformat": 4,
  "nbformat_minor": 0,
  "metadata": {
    "colab": {
      "name": "clonar.ipynb",
      "provenance": [],
      "collapsed_sections": [],
      "include_colab_link": true
    },
    "kernelspec": {
      "name": "python3",
      "display_name": "Python 3"
    }
  },
  "cells": [
    {
      "cell_type": "markdown",
      "metadata": {
        "id": "view-in-github",
        "colab_type": "text"
      },
      "source": [
        "<a href=\"https://colab.research.google.com/github/ijusplab/utilidades-colab/blob/master/clonar.ipynb\" target=\"_parent\"><img src=\"https://colab.research.google.com/assets/colab-badge.svg\" alt=\"Open In Colab\"/></a>"
      ]
    },
    {
      "cell_type": "markdown",
      "metadata": {
        "id": "o_cxtaQmdtn7",
        "colab_type": "text"
      },
      "source": [
        "# Utilidades: Clonar Repositório"
      ]
    },
    {
      "cell_type": "markdown",
      "metadata": {
        "id": "YXlwaTn4dqFi",
        "colab_type": "text"
      },
      "source": [
        "## Instruções:\n",
        "Para clonar um repositório, primeiro copie o url no GitHub.\n",
        "\n",
        "O formato deve ser `https://github.com/<nome_da_organizacao>/<nome_do_projeto>.git`.\n",
        "\n",
        "Cole o url abaixo, no campo `remote`.\n",
        "\n",
        "Em seguida, execute a célula.\n",
        "\n",
        "**Atenção: verifique se o campo `projects_path` corresponde ao caminho para a pasta de projetos no seu Google Drive.**\n"
      ]
    },
    {
      "cell_type": "code",
      "metadata": {
        "colab_type": "code",
        "id": "qjQ69_AQTxxY",
        "colab": {
          "base_uri": "https://localhost:8080/",
          "height": 394
        },
        "outputId": "88d88d99-42de-4c50-c833-9e83ba735a30"
      },
      "source": [
        "#@title Dados de Configuração { vertical-output: true, display-mode: \"form\" }\n",
        "remote = \"\" #@param {type:\"string\"}\n",
        "git_config_path = \"/LIIA-3R/CONFIG/git_config.txt\" #@param {type:\"string\"}\n",
        "projects_path = \"/LIIA-3R/PROJETOS/\" #@param {type:\"string\"}\n",
        "\n",
        "import re\n",
        "from google.colab import drive\n",
        "\n",
        "print('integrando Google Drive ao ambiente...')\n",
        "drive.mount('/content/drive')\n",
        "\n",
        "repo = re.search(\"([^\\/]*)\\.git$\", remote)\n",
        "if repo == None:\n",
        "  raise Exception('Remoto inválido')\n",
        "print('repo: ' + repo.group(1))\n",
        "root = '/content/drive/My\\ Drive'\n",
        "projects_path = root + projects_path\n",
        "repo_path = projects_path + repo.group(1)\n",
        "config_path = root + git_config_path\n",
        "print();\n",
        "\n",
        "print('acessando pasta de projetos...')\n",
        "%cd {projects_path}\n",
        "%pwd\n",
        "%ls\n",
        "print();\n",
        "\n",
        "print('configurando o git...')\n",
        "config_info = !cat {config_path}\n",
        "github_url = 'https://' + config_info[2] + '@github.com/' + remote.replace('https://github.com/', '')\n",
        "del config_info\n",
        "\n",
        "print('clonando repositório...')\n",
        "!git clone {github_url}\n",
        "%cd {repo_path}\n",
        "!mv gitignore .gitignore\n",
        "%ls\n",
        "print();\n",
        "\n",
        "print('remote:')\n",
        "!git remote -v"
      ],
      "execution_count": 1,
      "outputs": [
        {
          "output_type": "stream",
          "text": [
            "integrando Google Drive ao ambiente...\n",
            "Drive already mounted at /content/drive; to attempt to forcibly remount, call drive.mount(\"/content/drive\", force_remount=True).\n",
            "repo: ia-dispositivos-legais\n",
            "\n",
            "acessando pasta de projetos...\n",
            "/content/drive/My Drive/LIIA-3R/PROJETOS\n",
            "\n",
            "configurando o git...\n",
            "clonando repositório...\n",
            "Cloning into 'ia-dispositivos-legais'...\n",
            "remote: Enumerating objects: 5, done.\u001b[K\n",
            "remote: Counting objects: 100% (5/5), done.\u001b[K\n",
            "remote: Compressing objects: 100% (3/3), done.\u001b[K\n",
            "remote: Total 5 (delta 0), reused 5 (delta 0), pack-reused 0\u001b[K\n",
            "Unpacking objects: 100% (5/5), done.\n",
            "/content/drive/My Drive/LIIA-3R/PROJETOS/ia-dispositivos-legais\n",
            "\u001b[0m\u001b[01;34mparams\u001b[0m/\n",
            "\n",
            "remote:\n",
            "origin\thttps://12c81e2772bf21e2e28396d9863f806cbc09db9b@github.com/ijusplab/ia-dispositivos-legais.git (fetch)\n",
            "origin\thttps://12c81e2772bf21e2e28396d9863f806cbc09db9b@github.com/ijusplab/ia-dispositivos-legais.git (push)\n"
          ],
          "name": "stdout"
        }
      ]
    }
  ]
}