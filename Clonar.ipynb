{
  "nbformat": 4,
  "nbformat_minor": 0,
  "metadata": {
    "colab": {
      "name": "Clonar.ipynb",
      "provenance": [],
      "collapsed_sections": [],
      "include_colab_link": true
    },
    "kernelspec": {
      "name": "python3",
      "display_name": "Python 3"
    }
  },
  "cells": [
    {
      "cell_type": "markdown",
      "metadata": {
        "id": "view-in-github",
        "colab_type": "text"
      },
      "source": [
        "<a href=\"https://colab.research.google.com/github/ijusplab/colab-clonar-projeto/blob/master/Clonar.ipynb\" target=\"_parent\"><img src=\"https://colab.research.google.com/assets/colab-badge.svg\" alt=\"Open In Colab\"/></a>"
      ]
    },
    {
      "cell_type": "code",
      "metadata": {
        "colab_type": "code",
        "id": "qjQ69_AQTxxY",
        "colab": {}
      },
      "source": [
        "#@title Clonar Repositório { vertical-output: true, display-mode: \"form\" }\n",
        "remote = \"https://github.com/ijusplab/testing-colab-integration-1.git\" #@param {type:\"string\"}\n",
        "projects_path = \"/LIIA-3R/PROJETOS/\" #@param {type:\"string\"}\n",
        "\n",
        "import re\n",
        "from google.colab import drive\n",
        "\n",
        "print('integrando Google Drive ao ambiente...')\n",
        "drive.mount('/content/drive')\n",
        "\n",
        "repo = re.search(\"([^\\/]*)\\.git$\", remote)\n",
        "print('repo: ' + repo.group(1))\n",
        "if repo != None:\n",
        "  root = '/content/drive/My\\ Drive'\n",
        "  projects_path = root + projects_path\n",
        "  repo_path = projects_path + repo.group(1)\n",
        "\n",
        "  print('acessando pasta de projetos...')\n",
        "  %cd {projects_path}\n",
        "  %pwd\n",
        "  %ls\n",
        "\n",
        "  print('clonando repositório...')\n",
        "  !git clone {remote}\n",
        "  %cd {repo_path}\n",
        "  %ls\n",
        "\n",
        "  print('remote:')\n",
        "  !git remote -v\n",
        "else:\n",
        "  print('Remoto inválido')\n",
        "  print('O remoto precisa ter o seguinte formato:')\n",
        "  print('https://github.com/<oganizacao>/<repositorio>.git')"
      ],
      "execution_count": 0,
      "outputs": []
    }
  ]
}