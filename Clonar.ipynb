{
  "nbformat": 4,
  "nbformat_minor": 0,
  "metadata": {
    "colab": {
      "name": "Clonar.ipynb",
      "provenance": [],
      "collapsed_sections": [],
      "include_colab_link": true
    },
    "kernelspec": {
      "name": "python3",
      "display_name": "Python 3"
    }
  },
  "cells": [
    {
      "cell_type": "markdown",
      "metadata": {
        "id": "view-in-github",
        "colab_type": "text"
      },
      "source": [
        "<a href=\"https://colab.research.google.com/github/ijusplab/colab-clonar-projeto/blob/master/Clonar.ipynb\" target=\"_parent\"><img src=\"https://colab.research.google.com/assets/colab-badge.svg\" alt=\"Open In Colab\"/></a>"
      ]
    },
    {
      "cell_type": "code",
      "metadata": {
        "colab_type": "code",
        "id": "qjQ69_AQTxxY",
        "colab": {
          "base_uri": "https://localhost:8080/",
          "height": 343
        },
        "outputId": "63e3df1c-7c0c-428e-fe8d-924352148c15"
      },
      "source": [
        "#@title Clonar Repositório { vertical-output: true, display-mode: \"form\" }\n",
        "remote = \"\" #@param {type:\"string\"}\n",
        "projects_path = \"/LIIA-3R/PROJETOS/\" #@param {type:\"string\"}\n",
        "\n",
        "import re\n",
        "from google.colab import drive\n",
        "\n",
        "print('integrando Google Drive ao ambiente...')\n",
        "drive.mount('/content/drive')\n",
        "\n",
        "repo = re.search(\"([^\\/]*)\\.git$\", remote)\n",
        "if repo == None:\n",
        "  raise Exception('Remoto inválido')\n",
        "print('repo: ' + repo.group(1))\n",
        "root = '/content/drive/My\\ Drive'\n",
        "projects_path = root + projects_path\n",
        "repo_path = projects_path + repo.group(1)\n",
        "\n",
        "print('acessando pasta de projetos...')\n",
        "%cd {projects_path}\n",
        "%pwd\n",
        "%ls\n",
        "\n",
        "print('clonando repositório...')\n",
        "!git clone {remote}\n",
        "%cd {repo_path}\n",
        "%ls\n",
        "\n",
        "print('remote:')\n",
        "!git remote -v"
      ],
      "execution_count": 2,
      "outputs": [
        {
          "output_type": "stream",
          "text": [
            "integrando Google Drive ao ambiente...\n",
            "Drive already mounted at /content/drive; to attempt to forcibly remount, call drive.mount(\"/content/drive\", force_remount=True).\n",
            "repo: testing-colab-integration-1\n",
            "acessando pasta de projetos...\n",
            "/content/drive/My Drive/LIIA-3R/PROJETOS\n",
            "\u001b[0m\u001b[01;34mDISPOSITIVOS_LEGAIS\u001b[0m/  \u001b[01;34mtesting-colab-integration-2\u001b[0m/\n",
            "clonando repositório...\n",
            "Cloning into 'testing-colab-integration-1'...\n",
            "remote: Enumerating objects: 10, done.\u001b[K\n",
            "remote: Counting objects: 100% (10/10), done.\u001b[K\n",
            "remote: Compressing objects: 100% (8/8), done.\u001b[K\n",
            "remote: Total 10 (delta 2), reused 0 (delta 0), pack-reused 0\u001b[K\n",
            "Unpacking objects: 100% (10/10), done.\n",
            "/content/drive/My Drive/LIIA-3R/PROJETOS/testing-colab-integration-1\n",
            "Preprocessamento_1_Substituicoes.ipynb  README.md\n",
            "remote:\n",
            "origin\thttps://github.com/ijusplab/testing-colab-integration-1.git (fetch)\n",
            "origin\thttps://github.com/ijusplab/testing-colab-integration-1.git (push)\n"
          ],
          "name": "stdout"
        }
      ]
    }
  ]
}